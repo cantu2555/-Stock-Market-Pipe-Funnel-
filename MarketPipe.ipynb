{
 "cells": [
  {
   "cell_type": "markdown",
   "id": "fef4d187-3688-426a-8562-8df22c1d1de9",
   "metadata": {
    "jp-MarkdownHeadingCollapsed": true
   },
   "source": [
    "# Carlos Cantu \n",
    "# Market Pipe Funnel \n",
    "# DSC 540"
   ]
  },
  {
   "cell_type": "markdown",
   "id": "a1ba95ed-4e46-4d83-901a-7d3130ded4c5",
   "metadata": {
    "tags": []
   },
   "source": [
    "# Web Scrape"
   ]
  },
  {
   "cell_type": "markdown",
   "id": "9d2626f7-a86a-4275-8658-d3239ae73bcb",
   "metadata": {},
   "source": [
    "The primary objective of this web scraping initiative is to retrieve a dataset comprising 1000 rows of stock tickers for the most significant stock gainers. Specifically, we are interested in stocks with prices ranging from $1 to $60 at the current moment. This data will be extracted from a total of 40 web pages, each displaying 25 different companies. To identify the most promising candidates among these companies, a two-tier sorting process will be employed. First, the companies will be sorted based on their trading volume, and then, within each volume category, they will be further sorted by the net percentage change in stock price. Ultimately, the top 25 companies that meet these criteria will be selected for further analysis.\n",
    "\n",
    "To ensure that the data is in the most usable and relevant format, a series of data transformations will be applied. These transformations are categorized and labeled as transformation (1-6). While it's important to note that additional transformation steps do exist, our current focus is on these initial six stages.\n",
    "\n",
    "The initial transformation steps will involve extracting and processing data from the web pages. This may include stripping away unnecessary text, formatting values, and structuring the data to make it amenable to analysis. These actions are essential for ensuring the integrity and usability of the dataset.\n",
    "\n",
    "Once the data has been appropriately processed through these initial transformations, it will be ready for sorting and analysis. The sorting process will be instrumental in identifying the top-performing stocks based on trading volume and net percentage change in price. This approach allows us to pinpoint the most promising investment opportunities among the candidates.\n",
    "\n",
    "In conclusion, the web scraping effort aims to compile a dataset of 1000 rows containing stock tickers of significant stock gainers within a price range of $1 to $60, extracted from 40 pages, each displaying 25 companies. These companies will be meticulously sorted by volume and net percentage change, ultimately selecting the top 25. "
   ]
  },
  {
   "cell_type": "markdown",
   "id": "f93a9d9b-13db-4531-8cee-db087b4bd4d5",
   "metadata": {},
   "source": [
    "#### **Note takes a good 3 min to run**  "
   ]
  },
  {
   "cell_type": "code",
   "execution_count": 1,
   "id": "989853c7-8174-42b7-9862-7c599ee50725",
   "metadata": {},
   "outputs": [],
   "source": [
    "import requests # for my scrape \n",
    "from bs4 import BeautifulSoup # for my  scrape\n",
    "import pandas as pd\n",
    "import os\n",
    "import glob\n",
    "import sqlite3"
   ]
  },
  {
   "cell_type": "code",
   "execution_count": 2,
   "id": "d564868c-ec28-4b5c-bfd0-43630a7ef8cf",
   "metadata": {},
   "outputs": [],
   "source": [
    "# web scrape \n",
    "# Base URL for Marketwatch \n",
    "url = \"https://www.marketwatch.com/tools/screener/stock\"\n",
    "\n",
    "# list to store scraped data \n",
    "data_list = []\n",
    "\n",
    "# number of pages to scrape \n",
    "pages_to_scrape = 40 # pages give 25 results each 40*25= 1000 per project requirement  \n",
    "\n",
    "# loop through pages \n",
    "for page_number in range(1, pages_to_scrape + 1): # Adding +1 ensures that the loop will include the last page \n",
    "    # define parameters for the pages\n",
    "    params = {\n",
    "        \"exchange\": \"all\",\n",
    "        \"skip\": (page_number - 1) * 25,\n",
    "        \"orderbyfield\": \"Volume\", \n",
    "        \"direction\": \"desc\",\n",
    "        \"visiblecolumns\": \"Symbol,CompanyName,Price,NetChange,ChangePercent,Volume\",\n",
    "        \"pricemin\": 1,\n",
    "        \"pricemax\": 60,\n",
    "    }\n",
    "\n",
    "    # GET request for the current page \n",
    "    response = requests.get(url, params=params)\n",
    "\n",
    "    # check if request works\n",
    "    if response.status_code == 200:\n",
    "        # parse page HTML content\n",
    "        soup = BeautifulSoup(response.text, \"html.parser\")\n",
    "\n",
    "        # Extract the data \n",
    "        stock_table = soup.find(\"table\", {\"class\": \"table\"})\n",
    "        rows = stock_table.find_all(\"tr\") # \"tr\" tag represents table rows in HTML\n",
    "        # transformations 1-6 below\n",
    "        for row in rows[1:]: # skip header row\n",
    "            columns = row.find_all(\"td\") #  \"td\" tag represents table data cells in HTML tables\n",
    "            symbol = columns[0].text.strip() # extracted text to remove any leading or trailing whitespace characters Tranformations 1-6\n",
    "            company_name = columns[1].text.strip()\n",
    "            price = columns[2].text.strip()\n",
    "            net_change = columns[3].text.strip()\n",
    "            change_percent = columns[4].text.strip()\n",
    "            volume = columns[5].text.strip()\n",
    "\n",
    "\n",
    "            # store data in a dictionary \n",
    "            stock_data = {\n",
    "                \"Symbol\": symbol,\n",
    "                \"Company Name\": company_name,\n",
    "                \"Price\": price,\n",
    "                \"Net Change\": net_change,\n",
    "                \"Change Percent\": change_percent,\n",
    "                \"Volume\": volume,\n",
    "            }\n",
    "            data_list.append(stock_data) # add to my list \n",
    "    else:\n",
    "        print(\"Failed to retrieve the webpage for page\", page_number) # in case something goes wrong \n",
    "df = pd.DataFrame(data_list) # scraped data in a Pandas DataFrame \n",
    "\n",
    "                \n"
   ]
  },
  {
   "cell_type": "code",
   "execution_count": 3,
   "id": "a1a89e6a-6b1e-4873-86a8-fdc82f6550ca",
   "metadata": {},
   "outputs": [
    {
     "name": "stdout",
     "output_type": "stream",
     "text": [
      "Number of results: 1000\n",
      "   Symbol                          Company Name   Price Net Change  \\\n",
      "0    PLTR            Palantir Technologies Inc.  $17.91       0.30   \n",
      "1     SMX            SMX (Security Matters) PLC   $2.58       0.89   \n",
      "2    RIVN           Rivian Automotive Inc. Cl A  $19.89       1.11   \n",
      "3     NIO                          NIO Inc. ADR   $8.84       0.50   \n",
      "4     BAC                 Bank of America Corp.  $27.17       0.86   \n",
      "5    NKLA                          Nikola Corp.   $1.43       0.05   \n",
      "6    LCID                      Lucid Group Inc.   $5.39       0.36   \n",
      "7    AKRO               Akero Therapeutics Inc.  $18.47     -30.07   \n",
      "8     AAL          American Airlines Group Inc.  $12.36       0.12   \n",
      "9     AMC  AMC Entertainment Holdings Inc. Cl A  $10.04       0.22   \n",
      "10      F                        Ford Motor Co.  $12.21       0.14   \n",
      "11   MARA        Marathon Digital Holdings Inc.   $8.52       0.16   \n",
      "12    CCL                        Carnival Corp.  $13.00       0.31   \n",
      "13    WBD  Warner Bros. Discovery Inc. Series A  $10.75       0.22   \n",
      "14    MOB                    Mobilicom Ltd. ADR   $1.76       0.31   \n",
      "15   PRZO            ParaZero Technologies Ltd.   $2.21      -0.49   \n",
      "16   PLUG                       Plug Power Inc.   $7.09       0.68   \n",
      "17      T                             AT&T Inc.  $14.92       0.19   \n",
      "18   IMUX                          Immunic Inc.   $1.48      -0.11   \n",
      "19     NU                 Nu Holdings Ltd. Cl A   $7.55       0.24   \n",
      "\n",
      "   Change Percent  Volume  \n",
      "0           1.68%   80.4M  \n",
      "1          52.73%  55.87M  \n",
      "2           5.88%  40.07M  \n",
      "3           5.94%  31.34M  \n",
      "4           3.27%  29.67M  \n",
      "5           3.62%  24.15M  \n",
      "6           7.16%  23.34M  \n",
      "7         -61.95%  21.91M  \n",
      "8           0.94%   21.7M  \n",
      "9           2.19%  20.71M  \n",
      "10          1.16%  19.53M  \n",
      "11          1.85%  19.29M  \n",
      "12          2.44%  17.98M  \n",
      "13          2.09%  17.92M  \n",
      "14         21.39%  17.73M  \n",
      "15        -17.97%  17.43M  \n",
      "16         10.53%  17.03M  \n",
      "17          1.29%  16.36M  \n",
      "18         -6.82%  15.04M  \n",
      "19          3.21%   14.4M  \n"
     ]
    }
   ],
   "source": [
    "# Calculate the length (number of results) in data_list\n",
    "results_length = len(data_list)\n",
    "\n",
    "# Print the results length\n",
    "print(\"Number of results:\", results_length)\n",
    "print(df.head(20))"
   ]
  },
  {
   "cell_type": "code",
   "execution_count": 4,
   "id": "7362364b-8b40-4c87-a5ae-53c23a2032b2",
   "metadata": {},
   "outputs": [],
   "source": [
    "# test for my eyeballs \n",
    "#csv_file_name = \"marketwatch_data.csv\"\n",
    "\n",
    "# Save the DataFrame to a CSV file\n",
    "#df.to_csv(csv_file_name, index=False)  # Set index=False to exclude the index column"
   ]
  },
  {
   "cell_type": "markdown",
   "id": "58ae3c30-338d-4748-818a-1ee95e7d6d75",
   "metadata": {},
   "source": [
    "## Critera Decisions "
   ]
  },
  {
   "cell_type": "code",
   "execution_count": 5,
   "id": "52178af4-3ee4-4176-bb57-ecb623d0b98f",
   "metadata": {
    "tags": []
   },
   "outputs": [
    {
     "name": "stdout",
     "output_type": "stream",
     "text": [
      "   Symbol                          Company Name   Price Net Change  \\\n",
      "1     SMX            SMX (Security Matters) PLC   $2.58       0.89   \n",
      "14    MOB                    Mobilicom Ltd. ADR   $1.76       0.31   \n",
      "20    RUN                           SunRun Inc.  $11.74       1.24   \n",
      "16   PLUG                       Plug Power Inc.   $7.09       0.68   \n",
      "6    LCID                      Lucid Group Inc.   $5.39       0.36   \n",
      "3     NIO                          NIO Inc. ADR   $8.84       0.50   \n",
      "2    RIVN           Rivian Automotive Inc. Cl A  $19.89       1.11   \n",
      "22   SNAP                             Snap Inc.   $8.95       0.34   \n",
      "5    NKLA                          Nikola Corp.   $1.43       0.05   \n",
      "4     BAC                 Bank of America Corp.  $27.17       0.86   \n",
      "19     NU                 Nu Holdings Ltd. Cl A   $7.55       0.24   \n",
      "12    CCL                        Carnival Corp.  $13.00       0.31   \n",
      "9     AMC  AMC Entertainment Holdings Inc. Cl A  $10.04       0.22   \n",
      "13    WBD  Warner Bros. Discovery Inc. Series A  $10.75       0.22   \n",
      "21      U                   Unity Software Inc.  $30.28       0.58   \n",
      "11   MARA        Marathon Digital Holdings Inc.   $8.52       0.16   \n",
      "0    PLTR            Palantir Technologies Inc.  $17.91       0.30   \n",
      "23    NOK                       Nokia Corp. ADR   $3.61       0.05   \n",
      "17      T                             AT&T Inc.  $14.92       0.19   \n",
      "10      F                        Ford Motor Co.  $12.21       0.14   \n",
      "8     AAL          American Airlines Group Inc.  $12.36       0.12   \n",
      "24   INTC                           Intel Corp.  $36.35       0.29   \n",
      "18   IMUX                          Immunic Inc.   $1.48      -0.11   \n",
      "15   PRZO            ParaZero Technologies Ltd.   $2.21      -0.49   \n",
      "7    AKRO               Akero Therapeutics Inc.  $18.47     -30.07   \n",
      "\n",
      "    Change Percent      Volume  \n",
      "1            52.73  55870000.0  \n",
      "14           21.39  17730000.0  \n",
      "20           11.76  14360000.0  \n",
      "16           10.53  17030000.0  \n",
      "6             7.16  23340000.0  \n",
      "3             5.94  31340000.0  \n",
      "2             5.88  40070000.0  \n",
      "22            3.89  13470000.0  \n",
      "5             3.62  24150000.0  \n",
      "4             3.27  29670000.0  \n",
      "19            3.21  14400000.0  \n",
      "12            2.44  17980000.0  \n",
      "9             2.19  20710000.0  \n",
      "13            2.09  17920000.0  \n",
      "21            1.94  13520000.0  \n",
      "11            1.85  19290000.0  \n",
      "0             1.68  80400000.0  \n",
      "23            1.40  13320000.0  \n",
      "17            1.29  16360000.0  \n",
      "10            1.16  19530000.0  \n",
      "8             0.94  21700000.0  \n",
      "24            0.80  12960000.0  \n",
      "18           -6.82  15040000.0  \n",
      "15          -17.97  17430000.0  \n",
      "7           -61.95  21910000.0  \n"
     ]
    },
    {
     "name": "stderr",
     "output_type": "stream",
     "text": [
      "/var/folders/90/68qhzxsx2zs8j6gfxb__pwwr0000gn/T/ipykernel_49456/1825347832.py:21: SettingWithCopyWarning: \n",
      "A value is trying to be set on a copy of a slice from a DataFrame\n",
      "\n",
      "See the caveats in the documentation: https://pandas.pydata.org/pandas-docs/stable/user_guide/indexing.html#returning-a-view-versus-a-copy\n",
      "  top_25_volume.sort_values(by=['Change Percent'], ascending=False, inplace=True) # sorts my top 25 by highest change in percent \"if i want to trade short reverse\"\n"
     ]
    }
   ],
   "source": [
    "# fix volume column function\n",
    "def convert_volume(volume_str): \n",
    "    if 'M' in volume_str:\n",
    "        return float(volume_str.replace('M', '')) * 1000000  # converts string to numbers millions \n",
    "    elif 'K' in volume_str:\n",
    "        return float(volume_str.replace('K', '')) * 1000 # just in case for thousands  may be unlikely\n",
    "    else:\n",
    "        return float(volume_str.replace(',', '')) # for under millions\n",
    "\n",
    "# sorting prep\n",
    "df['Volume'] = df['Volume'].apply(convert_volume) # apply & call the function \n",
    "df['Change Percent'] = df['Change Percent'].str.rstrip('%').astype(float) # remove percent symbol \n",
    "\n",
    "# sort by volume\n",
    "df.sort_values(by=['Volume'], ascending=False, inplace=True) # this is a double check webscraper should already be sorted by volume \n",
    "\n",
    "# select the top 25\n",
    "top_25_volume = df.head(25) # pull the top 25 higest \n",
    "\n",
    "# sort by change percent\n",
    "top_25_volume.sort_values(by=['Change Percent'], ascending=False, inplace=True) # sorts my top 25 by highest change in percent \"if i want to trade short reverse\" \n",
    "\n",
    "# Print the resulting DataFrame\n",
    "print(top_25_volume)\n",
    "\n"
   ]
  },
  {
   "cell_type": "markdown",
   "id": "3f7a4607-ed5d-41d0-b09f-2c8d68c15778",
   "metadata": {},
   "source": [
    "### Into SQL"
   ]
  },
  {
   "cell_type": "code",
   "execution_count": 18,
   "id": "3315e85d-0d6e-4149-9470-6bf048d45053",
   "metadata": {},
   "outputs": [],
   "source": [
    "# # into sql light \n",
    "# # create connection to sqlight\n",
    "# conn = sqlite3.connect('finalproject.db')\n",
    "# # convert to sql table\n",
    "# top_25_volume.to_sql('top_25_volume', conn, if_exists='replace', index=False)\n",
    "# # commit changes \n",
    "# conn.commit()\n",
    "# conn.close()"
   ]
  },
  {
   "cell_type": "markdown",
   "id": "8fd0d958-7055-4428-8ec7-34c475fe5cd9",
   "metadata": {
    "tags": []
   },
   "source": [
    "# Flat File "
   ]
  },
  {
   "cell_type": "markdown",
   "id": "c356ad9b-5ffd-4b1f-bced-e741f28dbadc",
   "metadata": {},
   "source": [
    "The primary objective behind the utilization of this flat file is to conduct a targeted search within the file folder for specific Tickers that have been previously identified through a web scraping process. Once these relevant CSV files have been located, they are subsequently amalgamated or concatenated together. This amalgamation allows for the examination of the \"OperatingIncomeLoss\" column on a year-over-year basis for each ticker. This analysis serves as a preliminary assessment to gauge the overall improvement in the health and performance of the businesses represented by these Tickers.\n",
    "\n",
    "The overarching goal here is to identify and highlight companies that exhibit positive trends in their operating income or financial health over time. This process involves a series of data transformations, which are categorized and labeled as transformation (1-5). While it's worth noting that there may be additional transformation steps beyond the initial five, our current focus centers on these initial stages.\n",
    "\n",
    "These transformations play a pivotal role in preparing the data for meaningful analysis. They encompass various operations such as data cleansing, normalization, aggregation, and calculation of relevant metrics. Through these transformations, the data becomes more structured and conducive to extracting valuable insights.\n",
    "\n",
    "Once these transformations are applied, the data can be leveraged to determine the extent to which a company's financial health is improving year after year. This assessment can provide valuable insights into the stability and growth potential of these businesses. Ultimately, after conducting this analysis, the top two performing companies can be identified and further evaluated for potential investment or strategic opportunities.\n",
    "\n",
    "In summary, the process involves locating, consolidating, and transforming data from CSV files, with a focus on assessing the year-over-year improvement in operating income for selected Tickers. The labeled transformations (1-5) represent the initial steps in preparing and analyzing the data, with the ultimate aim of identifying and selecting the top-performing companies.\n",
    "\n",
    "The column length of each transformation of the concataned file will vary (will always meet requirement) \n",
    "the row length of the concatanated fill will vary on Ticker and avalable information of the file.   "
   ]
  },
  {
   "cell_type": "markdown",
   "id": "001a0acb-9062-4782-8e61-98f6680894e5",
   "metadata": {},
   "source": [
    "## Preliminaries"
   ]
  },
  {
   "cell_type": "code",
   "execution_count": 7,
   "id": "be0b514f-7a19-427d-ad7f-f63359b06ecc",
   "metadata": {
    "tags": []
   },
   "outputs": [
    {
     "name": "stdout",
     "output_type": "stream",
     "text": [
      "['SMX', 'MOB', 'RUN', 'PLUG']\n"
     ]
    }
   ],
   "source": [
    "# folder path to search \n",
    "folder_path = '/Users/cantu/Documents/Data Science Masters/Data Prep DSC 540/Data for course/SEC_10Karchive/sec_data_made_useable/sec_data_made_useable'\n",
    "\n",
    "# Initialize an empty DataFrame to store the combined data from matching CSV files\n",
    "combined_data = pd.DataFrame()\n",
    "\n",
    "# Define the keywords as the top 4 symbols from the 'top_25_volume' DataFrame\n",
    "top_symbols = top_25_volume['Symbol'].head(4).tolist()  # Extract top 3 symbols as keywords\n",
    "\n",
    "# Initialize a list to store the matching CSV file paths\n",
    "matching_csv_files = []\n",
    "\n",
    "# Initialize a list to store symbols not found\n",
    "symbols_not_found = top_symbols.copy()\n",
    "\n",
    "print(top_symbols)"
   ]
  },
  {
   "cell_type": "markdown",
   "id": "bb34d01a-afda-431c-be4d-e86146b09be5",
   "metadata": {},
   "source": [
    "## Find CSV \n"
   ]
  },
  {
   "cell_type": "code",
   "execution_count": 8,
   "id": "27bb65a0-7a4a-43cb-8038-d7c3a0f3a990",
   "metadata": {
    "tags": []
   },
   "outputs": [
    {
     "name": "stdout",
     "output_type": "stream",
     "text": [
      "Symbols not found in CSV filenames:\n",
      " ['SMX', 'MOB']\n",
      "\n",
      " The combined_data row length is  76\n",
      "\n",
      " The combined_data column length is 766\n",
      "\n",
      "           end       filed  form         Name Ticker            CIK Currency  \\\n",
      "0  2015-06-30  2015-09-15  10-Q  Sunrun Inc.    RUN  CIK0001469367      USD   \n",
      "1  2015-09-30  2015-11-13  10-Q  Sunrun Inc.    RUN  CIK0001469367      USD   \n",
      "2  2015-12-31  2016-03-11  10-K  Sunrun Inc.    RUN  CIK0001469367      USD   \n",
      "3  2016-03-31  2016-05-13  10-Q  Sunrun Inc.    RUN  CIK0001469367      USD   \n",
      "4  2016-06-30  2016-08-11  10-Q  Sunrun Inc.    RUN  CIK0001469367      USD   \n",
      "\n",
      "   AccountsPayableCurrent  AccountsReceivableNetCurrent  \\\n",
      "0              69566000.0                    49619000.0   \n",
      "1              97908000.0                    53717000.0   \n",
      "2             104133000.0                    60275000.0   \n",
      "3              93701000.0                    56774000.0   \n",
      "4              93681000.0                    56572000.0   \n",
      "\n",
      "   AccruedEmployeeBenefitsCurrent  ...  InvestmentIncomeAmortizationOfPremium  \\\n",
      "0                             NaN  ...                                    NaN   \n",
      "1                             NaN  ...                                    NaN   \n",
      "2                      21353000.0  ...                                    NaN   \n",
      "3                             NaN  ...                                    NaN   \n",
      "4                             NaN  ...                                    NaN   \n",
      "\n",
      "   InvestmentsInAffiliatesSubsidiariesAssociatesAndJointVentures  \\\n",
      "0                                                NaN               \n",
      "1                                                NaN               \n",
      "2                                                NaN               \n",
      "3                                                NaN               \n",
      "4                                                NaN               \n",
      "\n",
      "   NumberOfReportableSegments  OperatingLeaseImpairmentLoss  \\\n",
      "0                         NaN                           NaN   \n",
      "1                         NaN                           NaN   \n",
      "2                         NaN                           NaN   \n",
      "3                         NaN                           NaN   \n",
      "4                         NaN                           NaN   \n",
      "\n",
      "   OtherNonrecurringGain  \\\n",
      "0                    NaN   \n",
      "1                    NaN   \n",
      "2                    NaN   \n",
      "3                    NaN   \n",
      "4                    NaN   \n",
      "\n",
      "   PaymentForContingentConsiderationLiabilityFinancingActivities  \\\n",
      "0                                                NaN               \n",
      "1                                                NaN               \n",
      "2                                                NaN               \n",
      "3                                                NaN               \n",
      "4                                                NaN               \n",
      "\n",
      "   ProceedsFromSaleOfAvailableForSaleSecuritiesDebt  \\\n",
      "0                                               NaN   \n",
      "1                                               NaN   \n",
      "2                                               NaN   \n",
      "3                                               NaN   \n",
      "4                                               NaN   \n",
      "\n",
      "   ProvisionForLoanAndLeaseLosses  SecurityDeposit  StockIssued1  \n",
      "0                             NaN              NaN           NaN  \n",
      "1                             NaN              NaN           NaN  \n",
      "2                             NaN              NaN           NaN  \n",
      "3                             NaN              NaN           NaN  \n",
      "4                             NaN              NaN           NaN  \n",
      "\n",
      "[5 rows x 766 columns]\n"
     ]
    }
   ],
   "source": [
    "# data set source = https://www.kaggle.com/datasets/chad116/sec-company-facts-all-10q-10k-financial-data?resource=download\n",
    "# note data set may not contain all tickers but that is ok \n",
    "\n",
    "# Error function for reading CSV files\n",
    "def read_csv_file(csv_file):\n",
    "    try:\n",
    "        data = pd.read_csv(csv_file)\n",
    "        return data\n",
    "    except Exception as e:\n",
    "        print(f\"Error reading {csv_file}: {str(e)}\")\n",
    "        return None\n",
    "\n",
    "# Iterate through files in the folder\n",
    "for filename in os.listdir(folder_path):\n",
    "    if filename.endswith('.csv'):\n",
    "        # Check if any of the top 3 symbols are in the filename\n",
    "        \n",
    "        found_symbols = [symbol for symbol in top_symbols if symbol in filename]  #old code\n",
    "        if found_symbols:\n",
    "            matching_csv_files.append(os.path.join(folder_path, filename))\n",
    "            # Remove found symbols from the list of symbols not found\n",
    "            symbols_not_found = [symbol for symbol in symbols_not_found if symbol not in found_symbols]\n",
    "\n",
    "# Print symbols not found in CSV filenames # tranformation 1\n",
    "if symbols_not_found:\n",
    "    print(\"Symbols not found in CSV filenames:\\n\", symbols_not_found)\n",
    "\n",
    "# reading and concatenating the data from matching CSV files transformation 2\n",
    "for csv_file in matching_csv_files:\n",
    "    data = read_csv_file(csv_file)\n",
    "    if data is not None:\n",
    "        combined_data = pd.concat([combined_data, data], ignore_index=True)\n",
    "\n",
    "# combined_data contains the concatenated data from all matching CSV files\n",
    "rows = combined_data.shape[0]  # for finding the length rows\n",
    "cols = combined_data.shape[1]  # for finding the length columns \n",
    "print('\\n The combined_data row length is ', rows)\n",
    "print('\\n The combined_data column length is', cols)\n",
    "print('\\n', combined_data.head())  \n",
    "\n"
   ]
  },
  {
   "cell_type": "code",
   "execution_count": 9,
   "id": "5128f8a1-599d-442f-99ca-7bf2d07d57e6",
   "metadata": {
    "tags": []
   },
   "outputs": [],
   "source": [
    "# test for my eyeballs \n",
    "#csv_file_name = \"combined10k.csv\"\n",
    "\n",
    "# Save the DataFrame to a CSV file\n",
    "#combined_data.to_csv(csv_file_name, index=False)  # Set index=False to exclude the index column"
   ]
  },
  {
   "cell_type": "markdown",
   "id": "21cd39f7-71bd-457d-ab65-9add7768f570",
   "metadata": {},
   "source": [
    "### Into SQL"
   ]
  },
  {
   "cell_type": "code",
   "execution_count": 19,
   "id": "423274aa-62aa-4f5c-b40b-b66f57ed8383",
   "metadata": {},
   "outputs": [],
   "source": [
    "# # into sql light \n",
    "# # create connection to sqlight\n",
    "# conn = sqlite3.connect('finalproject.db')\n",
    "# # convert to sql table\n",
    "# combined_data.to_sql('combined_data', conn, if_exists='replace', index=False)\n",
    "# # commit changes \n",
    "# conn.commit()\n",
    "# conn.close()"
   ]
  },
  {
   "cell_type": "markdown",
   "id": "7d87261a-92d8-48a8-b469-419d8dd30e14",
   "metadata": {},
   "source": [
    "## Working with the flat file data "
   ]
  },
  {
   "cell_type": "code",
   "execution_count": 11,
   "id": "a1000ffb-5243-49da-8ac6-3e65298f9a65",
   "metadata": {
    "tags": []
   },
   "outputs": [],
   "source": [
    "# filter data to only keep rows with 10-k data \n",
    "filtered_data = combined_data[combined_data['form'] == '10-K'] # transformation 3 # mistake made used small k\n",
    "\n",
    "filtered_data = filtered_data[filtered_data['Ticker'].isin(top_symbols)] # remove any key word matches that do not belong\n",
    "# convert 'filed' column to datetime format \n",
    "filtered_data['filed'] = pd.to_datetime(filtered_data['filed']) # transformation 4\n",
    "# make sure it is numeric \n",
    "filtered_data['OperatingIncomeLoss'] = pd.to_numeric(filtered_data['OperatingIncomeLoss'], errors='coerce') # Transformation 5 requirements satisfied"
   ]
  },
  {
   "cell_type": "code",
   "execution_count": 12,
   "id": "ab7eace2-b5c3-4b37-8c32-1ac9cdc04f63",
   "metadata": {
    "tags": []
   },
   "outputs": [],
   "source": [
    "# test for my eyeballs \n",
    "#csv_file_name = \"filtered10k.csv\"\n",
    "\n",
    "# Save the DataFrame to a CSV file\n",
    "#filtered_data.to_csv(csv_file_name, index=False)  # Set index=False to exclude the index column"
   ]
  },
  {
   "cell_type": "code",
   "execution_count": 13,
   "id": "4c90a78a-3ece-4059-9f02-749957606ae7",
   "metadata": {},
   "outputs": [
    {
     "name": "stdout",
     "output_type": "stream",
     "text": [
      "   Ticker      filed  OperatingIncomeLoss  OperatingIncomeLoss_Pct_Change\n",
      "2     RUN 2016-03-11        -2.192000e+08                             NaN\n",
      "6     RUN 2017-03-08        -1.920760e+08                      -12.374088\n",
      "10    RUN 2018-03-06        -1.811330e+08                       -5.697224\n",
      "14    RUN 2019-02-28        -1.218810e+08                      -32.711875\n",
      "18    RUN 2020-02-27        -2.157400e+08                       77.008722\n",
      "22    RUN 2021-02-25        -4.651080e+08                      115.587281\n",
      "26    RUN 2022-02-17        -6.661870e+08                       43.232755\n",
      "27   PLUG 2009-03-16                  NaN                             NaN\n",
      "28   PLUG 2010-03-16        -4.127077e+07                             NaN\n",
      "31   PLUG 2011-03-31        -4.752887e+07                       15.163507\n",
      "35   PLUG 2012-03-30        -3.112710e+07                      -34.509060\n",
      "39   PLUG 2013-04-01        -3.667178e+07                       17.813031\n",
      "43   PLUG 2014-03-31        -2.896500e+07                      -21.015562\n",
      "47   PLUG 2015-03-17        -5.114800e+07                       76.585534\n",
      "51   PLUG 2016-03-15        -8.312200e+07                       62.512708\n",
      "55   PLUG 2017-03-10        -6.345600e+07                      -23.659200\n",
      "59   PLUG 2018-03-12        -1.195090e+08                       88.333649\n",
      "63   PLUG 2019-03-13        -8.935800e+07                      -25.229062\n",
      "67   PLUG 2020-03-10        -5.472200e+07                      -38.760939\n",
      "71   PLUG 2021-05-14        -1.061976e+09                     1840.674683\n",
      "75   PLUG 2022-03-01        -4.373240e+08                      -58.819785\n"
     ]
    },
    {
     "name": "stderr",
     "output_type": "stream",
     "text": [
      "/var/folders/90/68qhzxsx2zs8j6gfxb__pwwr0000gn/T/ipykernel_49456/341996614.py:5: FutureWarning: pad is deprecated and will be removed in a future version. Use ffill instead.\n",
      "  filtered_data['OperatingIncomeLoss_Pct_Change'] = filtered_data.groupby('Ticker')['OperatingIncomeLoss'].pct_change(periods=1, fill_method='pad') * 100\n"
     ]
    }
   ],
   "source": [
    "# sort the data by ticker and filed date\n",
    "filtered_data.sort_values(by=['Ticker', 'filed']) \n",
    "\n",
    "# percentage change in 'OperatingIncomeLoss' within each ticker group\n",
    "filtered_data['OperatingIncomeLoss_Pct_Change'] = filtered_data.groupby('Ticker')['OperatingIncomeLoss'].pct_change(periods=1, fill_method='pad') * 100\n",
    "\n",
    "print(filtered_data[['Ticker', 'filed', 'OperatingIncomeLoss', 'OperatingIncomeLoss_Pct_Change']])\n"
   ]
  },
  {
   "cell_type": "code",
   "execution_count": 14,
   "id": "ccf5a45c-c264-4c9f-a824-415fc1ad35cc",
   "metadata": {
    "tags": []
   },
   "outputs": [],
   "source": [
    "# test for my eyeballs \n",
    "#csv_file_name = \"filtered10k.csv\"\n",
    "\n",
    "# Save the DataFrame to a CSV file\n",
    "#filtered_data.to_csv(csv_file_name, index=False)  # Set index=False to exclude the index column"
   ]
  },
  {
   "cell_type": "code",
   "execution_count": 15,
   "id": "5215cabc-20d5-48ff-8f40-eea392146b58",
   "metadata": {
    "tags": []
   },
   "outputs": [
    {
     "name": "stdout",
     "output_type": "stream",
     "text": [
      "  Ticker  OperatingIncomeLoss_Pct_Change\n",
      "0   PLUG                     2101.083111\n",
      "1    RUN                      235.828757\n"
     ]
    }
   ],
   "source": [
    "# Pick the top healthy... ish company \n",
    "# Group the data by 'Ticker' and calculate the sum of positive 'OperatingIncomeLoss_Pct_Change' values\n",
    "positive_pct_change = filtered_data[filtered_data['OperatingIncomeLoss_Pct_Change'] > 0]\n",
    "top_tick  =  positive_pct_change.groupby('Ticker')['OperatingIncomeLoss_Pct_Change'].sum().reset_index()\n",
    "\n",
    "#Sort the tickers based on the sum of positive values in descending order\n",
    "top_tick = top_tick.sort_values(by='OperatingIncomeLoss_Pct_Change', ascending=False)\n",
    "\n",
    "# select the top healthy... ish company\n",
    "healthy_choice = top_tick.head(2) # depending on available data results will vary\n",
    "print(healthy_choice)"
   ]
  },
  {
   "cell_type": "markdown",
   "id": "ae09838f-6237-4117-83a9-041b070d0e7e",
   "metadata": {},
   "source": [
    "# API"
   ]
  },
  {
   "cell_type": "markdown",
   "id": "a560614d-e91d-451c-9800-86213dc5f761",
   "metadata": {},
   "source": [
    "The purpose of using the MarketStack API is to obtain intraday data for specific qualifying stock tickers. The program is designed to select the top two companies from the 'healthy_choice' dataset in the flat file section above. However, it's important to note that even though two tickers are allowed, only one is expected to pass through the API request. This is because the criteria for passing to the API request is based on having a positive 'OperatingIncomeLoss' value. Due to this criteria, it is possible that no companies may qualify to pass through the API request. This design aligns with the program's intention to be run daily, seeking only qualifying stocks.\n",
    "\n",
    "The transformations involved in this process include converting data from JSON format to a pandas DataFrame, performing time conversions, and finally appending the resulting DataFrames to a list. These transformations are labeled as transformations 1-5.\n",
    "\n",
    "Please note that the program is designed for daily use to identify and retrieve intraday data for qualifying stocks, and it is flexible to accommodate different sets of qualifying stocks based on the provided criteria."
   ]
  },
  {
   "cell_type": "code",
   "execution_count": 16,
   "id": "5a5ba85f-9b71-47b8-a46a-73868f71155c",
   "metadata": {},
   "outputs": [
    {
     "name": "stdout",
     "output_type": "stream",
     "text": [
      "Intraday Data:\n",
      "      open    high     low    last  close    volume                    date  \\\n",
      "0    6.430   7.105   6.405   7.060   6.41  381959.0  2023-10-10 01:30:00 PM   \n",
      "1    6.430   7.105   6.405   7.080   6.41  357693.0  2023-10-10 01:00:00 PM   \n",
      "2    6.430   7.065   6.405   7.060   6.41  333034.0  2023-10-10 12:30:00 PM   \n",
      "3    6.430   7.035   6.405   7.000   6.41  300858.0  2023-10-10 12:00:00 PM   \n",
      "4    6.430   7.035   6.405   6.910   6.41  249709.0  2023-10-10 11:30:00 AM   \n",
      "..     ...     ...     ...     ...    ...       ...                     ...   \n",
      "95  12.295  12.300  12.295     NaN    NaN       NaN  2023-09-29 02:00:00 PM   \n",
      "96  12.405  12.410  12.405     NaN    NaN       NaN  2023-09-29 01:30:00 PM   \n",
      "97  12.580  13.095  12.385  12.385  12.30  177494.0  2023-09-29 01:00:00 PM   \n",
      "98  12.580  13.095  12.390  12.550  12.30  165091.0  2023-09-29 12:30:00 PM   \n",
      "99  12.580  13.095  12.390  12.500  12.30  142796.0  2023-09-29 12:00:00 PM   \n",
      "\n",
      "   symbol exchange  \n",
      "0    PLUG     IEXG  \n",
      "1    PLUG     IEXG  \n",
      "2    PLUG     IEXG  \n",
      "3    PLUG     IEXG  \n",
      "4    PLUG     IEXG  \n",
      "..    ...      ...  \n",
      "95    RUN     IEXG  \n",
      "96    RUN     IEXG  \n",
      "97    RUN     IEXG  \n",
      "98    RUN     IEXG  \n",
      "99    RUN     IEXG  \n",
      "\n",
      "[200 rows x 9 columns]\n"
     ]
    }
   ],
   "source": [
    "# marketstack API\n",
    "\n",
    "import pytz\n",
    "\n",
    "\n",
    "marketstack_api_key = 'e1f891acfa827' # Altered for display go to account to retrieve \n",
    "\n",
    "# Extract the top 2 tickers or one ticker from healthy_choice \n",
    "healthy_choice_tickers = healthy_choice['Ticker'].head(2).tolist()\n",
    "\n",
    "#  list to store Data for each ticker\n",
    "intraday_data_list = []\n",
    "\n",
    "#  API request URL for Marketstack with the correct API key, interval, and limit\n",
    "for ticker in healthy_choice_tickers:\n",
    "    marketstack_url = f'http://api.marketstack.com/v1/tickers/{ticker}/intraday'\n",
    "    marketstack_params = {\n",
    "        'access_key': marketstack_api_key,\n",
    "        'interval': '30min',  # Set the interval to 30 minutes\n",
    "        'limit': 100  # Limit the results to 100\n",
    "    }\n",
    "\n",
    "    # Make the API request for Marketstack \n",
    "    marketstack_response = requests.get(marketstack_url, params=marketstack_params)\n",
    "\n",
    "    # Check if  request was successful\n",
    "    if marketstack_response.status_code == 200:\n",
    "        # Parse the JSON response \n",
    "        marketstack_data = marketstack_response.json().get(\"data\", {}).get(\"intraday\", []) # Transformation 1\n",
    "\n",
    "        # Convert  data to a DataFrame\n",
    "        marketstack_df = pd.DataFrame(marketstack_data) # transformation 2\n",
    "\n",
    "        # Convert the date column to a datetime object \n",
    "        marketstack_df['date'] = pd.to_datetime(marketstack_df['date']) # transformation 3\n",
    "\n",
    "        # Convert the times to east time zone and format them \"east time zone is market time\"\n",
    "        local_timezone = pytz.timezone('US/Eastern')\n",
    "        marketstack_df['date'] = marketstack_df['date'].dt.tz_convert(local_timezone).dt.strftime('%Y-%m-%d %I:%M:%S %p') # transformation 4 \n",
    "\n",
    "        # Append the Data to the list\n",
    "        intraday_data_list.append(marketstack_df) # transformation 5\n",
    "    else:\n",
    "        print(f\"Marketstack API request failed for ticker {ticker} with status code {marketstack_response.status_code}\")\n",
    "\n",
    "# Concatthe Data for each ticker into a single DataFrame\n",
    "combined_intraday_data = pd.concat(intraday_data_list)\n",
    "\n",
    "# Print \n",
    "print(\"Intraday Data:\")\n",
    "print(combined_intraday_data)\n",
    "\n",
    "# Export to a CSV file\n",
    "#combined_intraday_data.to_csv('combined_intraday_data.csv', index=False)\n"
   ]
  },
  {
   "cell_type": "markdown",
   "id": "534d2c99-a013-46db-a2b4-43f79f2352f5",
   "metadata": {},
   "source": [
    "### Into SQL"
   ]
  },
  {
   "cell_type": "code",
   "execution_count": 20,
   "id": "c6c48fac-ddc1-4faa-9467-e6be07716b11",
   "metadata": {},
   "outputs": [],
   "source": [
    "# # into sql light \n",
    "# # create connection to sqlight\n",
    "# conn = sqlite3.connect('finalproject.db')\n",
    "# # convert to sql table\n",
    "# combined_intraday_data.to_sql('combined_intraday_data', conn, if_exists='replace', index=False)\n",
    "# # commit changes \n",
    "# conn.commit()\n",
    "# conn.close()"
   ]
  },
  {
   "cell_type": "markdown",
   "id": "07d20b88-a983-4364-ae75-0df8e149d3d0",
   "metadata": {
    "jp-MarkdownHeadingCollapsed": true
   },
   "source": [
    "# SQLite and Visualizations "
   ]
  },
  {
   "cell_type": "code",
   "execution_count": 24,
   "id": "466b84f4-57ea-4008-8ffd-8b69bb82f9c8",
   "metadata": {},
   "outputs": [
    {
     "name": "stdout",
     "output_type": "stream",
     "text": [
      "  Symbol                Company Name   Price Net Change  Change Percent  \\\n",
      "0    SMX  SMX (Security Matters) PLC   $2.58       0.89           52.73   \n",
      "1    MOB          Mobilicom Ltd. ADR   $1.76       0.31           21.39   \n",
      "2    RUN                 SunRun Inc.  $11.74       1.24           11.76   \n",
      "3    RUN                 SunRun Inc.  $11.74       1.24           11.76   \n",
      "4    RUN                 SunRun Inc.  $11.74       1.24           11.76   \n",
      "\n",
      "       Volume         end       filed  form         Name  ... StockIssued1  \\\n",
      "0  55870000.0        None        None  None         None  ...          NaN   \n",
      "1  17730000.0        None        None  None         None  ...          NaN   \n",
      "2  14360000.0  2015-06-30  2015-09-15  10-Q  Sunrun Inc.  ...          NaN   \n",
      "3  14360000.0  2015-06-30  2015-09-15  10-Q  Sunrun Inc.  ...          NaN   \n",
      "4  14360000.0  2015-06-30  2015-09-15  10-Q  Sunrun Inc.  ...          NaN   \n",
      "\n",
      "     open   high    low   last  close      volume                    date  \\\n",
      "0     NaN    NaN    NaN    NaN    NaN         NaN                    None   \n",
      "1     NaN    NaN    NaN    NaN    NaN         NaN                    None   \n",
      "2  9.7184  10.65  9.600  10.45  10.01  13461677.0  2023-10-06 08:00:00 PM   \n",
      "3  9.9400   9.94  9.715   9.79  10.01      5009.0  2023-10-06 09:30:00 AM   \n",
      "4  9.9400   9.94  9.940   9.94  10.01       100.0  2023-10-06 08:30:00 AM   \n",
      "\n",
      "   symbol  exchange  \n",
      "0    None      None  \n",
      "1    None      None  \n",
      "2     RUN      IEXG  \n",
      "3     RUN      IEXG  \n",
      "4     RUN      IEXG  \n",
      "\n",
      "[5 rows x 781 columns]\n"
     ]
    }
   ],
   "source": [
    "# Connect to the SQLite database\n",
    "conn = sqlite3.connect('finalproject.db')\n",
    "\n",
    "# SQL query to join tables\n",
    "query = \"\"\"\n",
    "SELECT \n",
    "    top_25_volume.*, \n",
    "    combined_data.*, \n",
    "    combined_intraday_data.*\n",
    "FROM \n",
    "    top_25_volume\n",
    "LEFT JOIN \n",
    "    combined_data \n",
    "ON \n",
    "    top_25_volume.Symbol = combined_data.Ticker\n",
    "LEFT JOIN \n",
    "    combined_intraday_data \n",
    "ON \n",
    "    top_25_volume.Symbol = combined_intraday_data.symbol\n",
    "\"\"\"\n",
    "\n",
    "# Execute the query and fetch the data into a DataFrame\n",
    "result = pd.read_sql_query(query, conn)\n",
    "\n",
    "# Close the database connection\n",
    "conn.close()\n",
    "\n",
    "# Print the first few rows of the result\n",
    "print(result.head())"
   ]
  },
  {
   "cell_type": "code",
   "execution_count": 25,
   "id": "82bc16db-e6da-493c-bfb9-8d8b1ff8b8ea",
   "metadata": {},
   "outputs": [],
   "source": [
    "# check for my eyeballs \n",
    "#result.to_csv('combined_data_check.csv', index=False)"
   ]
  },
  {
   "cell_type": "markdown",
   "id": "3d026671-9f97-499c-a6b9-0d0d767cc595",
   "metadata": {},
   "source": [
    "#### Visualization 1: Last Values for Ticker RUN  on  2023-10-10 "
   ]
  },
  {
   "cell_type": "code",
   "execution_count": 27,
   "id": "ac5fe478-be5b-48c9-a313-05384c3bfda8",
   "metadata": {},
   "outputs": [
    {
     "data": {
      "image/png": "[encoded data removed]",
      "text/plain": [
       "<Figure size 1200x600 with 1 Axes>"
      ]
     },
     "metadata": {},
     "output_type": "display_data"
    }
   ],
   "source": [
    "import matplotlib.pyplot as plt\n",
    "# filter for specific data \n",
    "symbol = 'RUN'\n",
    "date = '2023-10-10'\n",
    "filtered_data1 = result[(result['symbol'] == symbol) & (result['date'].str.startswith(date))]\n",
    "\n",
    "# columns for ploting \n",
    "last_values = filtered_data1['last']\n",
    "dates = pd.to_datetime(filtered_data1['date'])\n",
    "\n",
    "# line plot\n",
    "plt.figure(figsize=(12, 6))\n",
    "plt.plot(dates, last_values, marker='o', linestyle='-', color='b')\n",
    "plt.title(f'Last Values for Symbol {symbol} on {date}')\n",
    "plt.xlabel('Time')\n",
    "plt.ylabel('Last Value')\n",
    "plt.xticks(rotation=45)\n",
    "plt.grid(True)\n",
    "\n",
    "# Show the plot\n",
    "plt.tight_layout()\n",
    "plt.show()"
   ]
  },
  {
   "cell_type": "markdown",
   "id": "695f7bcd-80df-4d24-acd5-7209612e4dbf",
   "metadata": {},
   "source": [
    "#### Visualization 2: Last Values for Ticker RUN  on  2023-10-10 "
   ]
  },
  {
   "cell_type": "code",
   "execution_count": 29,
   "id": "3aa4a810-9fb0-4d2b-b191-595733c09598",
   "metadata": {},
   "outputs": [
    {
     "data": {
      "image/png": "[encoded data removed]",
      "text/plain": [
       "<Figure size 1200x600 with 1 Axes>"
      ]
     },
     "metadata": {},
     "output_type": "display_data"
    }
   ],
   "source": [
    "# filter for specific data \n",
    "symbol = 'PLUG'\n",
    "date = '2023-10-10'\n",
    "filtered_data2 = result[(result['symbol'] == symbol) & (result['date'].str.startswith(date))]\n",
    "\n",
    "# columns for ploting \n",
    "last_values = filtered_data2['last']\n",
    "dates = pd.to_datetime(filtered_data1['date'])\n",
    "\n",
    "# line plot\n",
    "plt.figure(figsize=(12, 6))\n",
    "plt.plot(dates, last_values, marker='o', linestyle='-', color='b')\n",
    "plt.title(f'Last Values for Symbol {symbol} on {date}')\n",
    "plt.xlabel('Time')\n",
    "plt.ylabel('Last Value')\n",
    "plt.xticks(rotation=45)\n",
    "plt.grid(True)\n",
    "\n",
    "# Show the plot\n",
    "plt.tight_layout()\n",
    "plt.show()"
   ]
  },
  {
   "cell_type": "markdown",
   "id": "55d2d038-c761-436c-b417-feec7446d215",
   "metadata": {},
   "source": [
    "#### Visualization 3: change in percent price from previous close to market open "
   ]
  },
  {
   "cell_type": "code",
   "execution_count": 42,
   "id": "037228bd-399d-47e4-8247-0fc2d0a95142",
   "metadata": {},
   "outputs": [
    {
     "data": {
      "image/png": "[encoded data removed]",
      "text/plain": [
       "<Figure size 1000x600 with 1 Axes>"
      ]
     },
     "metadata": {},
     "output_type": "display_data"
    }
   ],
   "source": [
    "\n",
    "\n",
    "# Filter  Data for symbols RUN and PLUG and date 2023-10-10 \n",
    "filtered_data3 = result[(result['symbol'].isin(['RUN', 'PLUG'])) & (result['date'] == '2023-10-10 09:30:00 AM')]\n",
    "\n",
    "#  bar plot for the change percent column\n",
    "plt.figure(figsize=(10, 6))\n",
    "for symbol in ['RUN', 'PLUG']:\n",
    "    symbol_data = filtered_data3[filtered_data3['symbol'] == symbol]\n",
    "    plt.bar(symbol_data['symbol'], symbol_data['Change Percent'], label=symbol)\n",
    "\n",
    "plt.title('Change Percent for Symbols RUN and PLUG on 2023-10-10 09:30:00 AM')\n",
    "plt.xlabel('Symbol')\n",
    "plt.ylabel('Change Percent')\n",
    "plt.grid(True)\n",
    "plt.legend()\n",
    "plt.tight_layout()\n",
    "plt.show()\n",
    "\n"
   ]
  },
  {
   "cell_type": "markdown",
   "id": "60da5a54-7b3a-46d2-8ef6-38df60fb1eb9",
   "metadata": {},
   "source": [
    "#### Visualization 4: Volume for tickers on 2023-10-10"
   ]
  },
  {
   "cell_type": "code",
   "execution_count": 43,
   "id": "5263a8c7-97a2-4562-8c33-243dcb93fa32",
   "metadata": {},
   "outputs": [
    {
     "data": {
      "image/png": "[encoded data removed]",
      "text/plain": [
       "<Figure size 1000x600 with 1 Axes>"
      ]
     },
     "metadata": {},
     "output_type": "display_data"
    }
   ],
   "source": [
    "# Filter  Data for symbols RUN and PLUG and date 2023-10-10 \n",
    "filtered_data4 = result[(result['symbol'].isin(['RUN', 'PLUG'])) & (result['date'] == '2023-10-10 09:30:00 AM')]\n",
    "\n",
    "#  bar plot for the Volume column\n",
    "plt.figure(figsize=(10, 6))\n",
    "for symbol in ['RUN', 'PLUG']:\n",
    "    symbol_data = filtered_data4[filtered_data4['symbol'] == symbol]\n",
    "    plt.bar(symbol_data['symbol'], symbol_data['Volume'], label=symbol)\n",
    "\n",
    "plt.title('Volume for Symbols RUN and PLUG on 2023-10-10 09:30:00 AM')\n",
    "plt.xlabel('Symbol')\n",
    "plt.ylabel('Volume')\n",
    "plt.grid(True)\n",
    "plt.legend()\n",
    "plt.tight_layout()\n",
    "plt.show()"
   ]
  },
  {
   "cell_type": "markdown",
   "id": "1e5c4f69-7a57-492d-b922-71cd631e0da4",
   "metadata": {},
   "source": [
    "#### Visualization 5: Total Operating Income/Loss for Tickers "
   ]
  },
  {
   "cell_type": "code",
   "execution_count": 45,
   "id": "bfe1c8f9-535b-4ce7-83be-50ce042da87d",
   "metadata": {},
   "outputs": [
    {
     "data": {
      "image/png": "[encoded data removed]",
      "text/plain": [
       "<Figure size 800x600 with 1 Axes>"
      ]
     },
     "metadata": {},
     "output_type": "display_data"
    }
   ],
   "source": [
    "# Filter the Data for symbols \n",
    "filtered_data5 = result[(result['symbol'].isin(['RUN', 'PLUG']))]\n",
    "\n",
    "# Group the data by symbol \n",
    "grouped_data = filtered_data5.groupby('symbol')['OperatingIncomeLoss'].sum().reset_index() # calculate the sum\n",
    "\n",
    "#  bar plot for the summed operatingincomeloss column\n",
    "plt.figure(figsize=(8, 6))\n",
    "plt.bar(grouped_data['symbol'], grouped_data['OperatingIncomeLoss'])\n",
    "\n",
    "plt.title('Total Operating Income/Loss for Symbols RUN and PLUG')\n",
    "plt.xlabel('Symbol')\n",
    "plt.ylabel('Total Operating Income/Loss')\n",
    "plt.grid(axis='y')\n",
    "plt.tight_layout()\n",
    "plt.show()"
   ]
  },
  {
   "cell_type": "markdown",
   "id": "ac82b2ba-2f3c-429e-99fd-567db569a2bb",
   "metadata": {},
   "source": [
    "## Summary"
   ]
  },
  {
   "cell_type": "markdown",
   "id": "4dc38de6-d917-440e-a855-8601b4b18f07",
   "metadata": {},
   "source": [
    "Project Summary: \n",
    "\n",
    "Throughout the duration of this project, I have acquired a wealth of techniques and methodologies for data cleaning and preparation. This experience has underscored the paramount importance of data preparation, even for seemingly straightforward tasks. A well-processed dataset is the bedrock of accuracy and is free from troublesome inconsistencies.\n",
    "Furthermore, this project has vividly illustrated the detrimental effects of utilizing unclean datasets in making critical business decisions. In the realm of high-level business choices, an unprocessed dataset can lead to severe consequences, such as:\n",
    "\n",
    "1.\tMisinformed Decisions: Unclean data can mislead decision-makers, resulting in misguided strategic choices that impact the organization's bottom line.\n",
    "2.\tInefficient Resource Allocation: Business resources, such as finances and manpower, can be squandered on initiatives driven by data that lacks integrity, potentially leading to suboptimal outcomes.\n",
    "3.\tReputational Damage: Relying on inaccurate data may erode trust with stakeholders and damage the organization's reputation in the long run.\n",
    "\n",
    "In tandem with the significance of data cleaning and preparation, the ethical dimension has come into sharp focus. I now recognize and appreciate the substantial responsibility that falls upon those entrusted with the task of data cleaning and preparation, as stakeholders rely on this information for critical decisions. This journey has made me acutely aware of my capacity to influence and manipulate data, emphasizing the utmost importance of maintaining the integrity of data by cleaning and preparing it meticulously while preserving its original form.\n",
    "In summary, this project has not only expanded my technical expertise in data preparation but has also instilled in me a profound understanding of the ethical obligations that come with this role. It is clear that maintaining data accuracy and integrity is a fundamental duty to the organization and its stakeholders.\n"
   ]
  },
  {
   "cell_type": "code",
   "execution_count": null,
   "id": "fd73ba7a-eebe-4cfc-9b97-dcace3e79938",
   "metadata": {},
   "outputs": [],
   "source": []
  }
 ],
 "metadata": {
  "kernelspec": {
   "display_name": "Python 3 (ipykernel)",
   "language": "python",
   "name": "python3"
  },
  "language_info": {
   "codemirror_mode": {
    "name": "ipython",
    "version": 3
   },
   "file_extension": ".py",
   "mimetype": "text/x-python",
   "name": "python",
   "nbconvert_exporter": "python",
   "pygments_lexer": "ipython3",
   "version": "3.11.4"
  }
 },
 "nbformat": 4,
 "nbformat_minor": 5
}
